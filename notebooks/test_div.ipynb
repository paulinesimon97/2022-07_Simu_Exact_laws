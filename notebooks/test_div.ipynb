{
 "cells": [
  {
   "cell_type": "code",
   "execution_count": 3,
   "metadata": {},
   "outputs": [],
   "source": [
    "import sys\n",
    "# Tested module\n",
    "sys.path.append(\"/home/simon/Documents/REPO/Exact_laws\")\n"
   ]
  },
  {
   "cell_type": "code",
   "execution_count": 20,
   "metadata": {},
   "outputs": [],
   "source": [
    "from exact_laws.el_calc_mod.grids import div_on_incgrid, incgrid, grid\n",
    "from exact_laws.el_calc_mod.datasets import load\n",
    "import numpy as np"
   ]
  },
  {
   "cell_type": "code",
   "execution_count": 21,
   "metadata": {},
   "outputs": [],
   "source": [
    "list_prim = [(2,3,4)]\n",
    "list_sec = [(1,3,4),(3,3,4),(2,2,4),(2,4,4),(2,3,3),(2,3,5)]\n",
    "nb_sec_by_dirr = 1\n",
    "N = [256,256,256]\n",
    "c = [1,2,3]\n",
    "incgrid = incgrid.IncGrid(grid.Grid(N,N,c), [1,1,1], ['lz','lperp','listperp'],{},'cls')\n",
    "flux = [np.zeros((1,3)),np.zeros((6,3))]\n",
    "flux[0][0] = [10,11,12]\n",
    "flux[1][0] = [1,2,3]\n",
    "flux[1][1] = [1,4,5]\n",
    "flux[1][2] = [2,2,3]\n",
    "flux[1][3] = [4,2,5]\n",
    "flux[1][4] = [2,3,5]\n",
    "flux[1][5] = [4,2,5]\n",
    "quantities = {'flux':flux}\n",
    "dataset = load(grid = grid.Grid(N=[1,6],coords={'listprim':list_prim,'listsec':list_sec,'nb_sec_by_dirr':1}), params={},quantities=quantities)"
   ]
  },
  {
   "cell_type": "code",
   "execution_count": 13,
   "metadata": {},
   "outputs": [
    {
     "data": {
      "text/plain": [
       "{'div_flux': array([0.])}"
      ]
     },
     "execution_count": 13,
     "metadata": {},
     "output_type": "execute_result"
    }
   ],
   "source": [
    "output = div_on_incgrid(incgrid,dataset)\n",
    "output"
   ]
  },
  {
   "cell_type": "code",
   "execution_count": 24,
   "metadata": {},
   "outputs": [],
   "source": [
    "flux = [np.zeros((1,3)),np.zeros((6,3))]\n",
    "flux[0][0] = [10,11,12]\n",
    "flux[1][0] = [10,200,3000]\n",
    "flux[1][1] = [20,300,4000]\n",
    "flux[1][2] = [30,400,5000]\n",
    "flux[1][3] = [40,500,6000]\n",
    "flux[1][4] = [50,600,7000]\n",
    "flux[1][5] = [60,700,8000]\n",
    "quantities = {'flux':flux}\n",
    "dataset = load(grid = grid.Grid(N=[1,6],coords={'listprim':list_prim,'listsec':list_sec,'nb_sec_by_dirr':1}), params={},quantities=quantities)"
   ]
  },
  {
   "cell_type": "code",
   "execution_count": 25,
   "metadata": {},
   "outputs": [
    {
     "data": {
      "text/plain": [
       "{'div_flux': array([555.])}"
      ]
     },
     "execution_count": 25,
     "metadata": {},
     "output_type": "execute_result"
    }
   ],
   "source": [
    "output = div_on_incgrid(incgrid,dataset)\n",
    "output"
   ]
  },
  {
   "cell_type": "code",
   "execution_count": null,
   "metadata": {},
   "outputs": [],
   "source": [
    "output = {}\n",
    "list_flux = []\n",
    "for k in dataset_terms.quantities:\n",
    "    if k.startswith(\"flux\"):\n",
    "        output[\"div_\" + k] = np.zeros((len(list_prim)))\n",
    "        term = dataset_terms.quantities[k]\n",
    "        list_flux.append(k)\n",
    "\n",
    "for ind, vect_prim in enumerate(list_prim):\n",
    "    point_sec = [[], [], []]\n",
    "    for dirr in range(3):\n",
    "        for i in range(-nb_sec_by_dirr, nb_sec_by_dirr + 1):\n",
    "            if not i == 0:\n",
    "                vect = list(vect_prim)\n",
    "                vect[dirr] = (\n",
    "                    (vect[dirr] + i)\n",
    "                    - (N[dirr] * ((vect[dirr] + i) >= (N[dirr] / 2)))\n",
    "                    + (N[dirr] * ((vect[dirr] + i) <= (-N[dirr] / 2)))\n",
    "                )\n",
    "                vect = tuple(vect)\n",
    "                loc = -1\n",
    "                try:\n",
    "                    index = list_prim.index(vect)\n",
    "                    loc = 0\n",
    "                except:\n",
    "                    index = list_sec.index(vect)\n",
    "                    loc = 1\n",
    "                point_sec[dirr].append((loc, index))\n",
    "    for t in list_flux:\n",
    "        div_point = 0\n",
    "        if len(point_sec[0]) == 0:\n",
    "            div_point += np.nan\n",
    "        else:\n",
    "            for dirr in range(3):\n",
    "                values = []\n",
    "                for i in len(point_sec[dirr]):\n",
    "                    values.append(dataset_terms.quantities[t][point_sec[dirr][i][0]][point_sec[dirr][i][1]])\n",
    "                div_point += cdiff(\n",
    "                    tab = values,\n",
    "                    length_case=c[0],\n",
    "                    precision=nb_sec_by_dirr * 2,\n",
    "                    period=False,\n",
    "                    point=True,\n",
    "                )\n",
    "        output[\"div_\" + t][ind] = div_point\n"
   ]
  }
 ],
 "metadata": {
  "kernelspec": {
   "display_name": "Python 3.8.10 ('venv')",
   "language": "python",
   "name": "python3"
  },
  "language_info": {
   "codemirror_mode": {
    "name": "ipython",
    "version": 3
   },
   "file_extension": ".py",
   "mimetype": "text/x-python",
   "name": "python",
   "nbconvert_exporter": "python",
   "pygments_lexer": "ipython3",
   "version": "3.8.10"
  },
  "orig_nbformat": 4,
  "vscode": {
   "interpreter": {
    "hash": "c53e085c35f321fddf126a644552d53df5dbec8a70ca5c68bab4eb2d1aa976f1"
   }
  }
 },
 "nbformat": 4,
 "nbformat_minor": 2
}
