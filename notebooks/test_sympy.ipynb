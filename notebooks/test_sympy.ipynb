{
 "cells": [
  {
   "cell_type": "code",
   "execution_count": 12,
   "metadata": {},
   "outputs": [],
   "source": [
    "import numpy as np\n",
    "import sympy as sp\n",
    "from numba import njit"
   ]
  },
  {
   "cell_type": "code",
   "execution_count": 42,
   "metadata": {},
   "outputs": [],
   "source": [
    "input = {}\n",
    "input['vx'] = (np.random.random((1000,1000,1000))).reshape((-1,))\n",
    "input['vy'] = (np.random.random((1000,1000,1000))).reshape((-1,))\n",
    "input['vz'] = (np.random.random((1000,1000,1000))).reshape((-1,))\n",
    "\n"
   ]
  },
  {
   "cell_type": "code",
   "execution_count": 55,
   "metadata": {},
   "outputs": [
    {
     "name": "stdout",
     "output_type": "stream",
     "text": [
      "CPUDispatcher(<function _lambdifygenerated at 0x7f97b622d8b0>)\n",
      "CPUDispatcher(<function f at 0x7f97b60d2430>)\n"
     ]
    }
   ],
   "source": [
    "vxP, vxNP, vyP, vyNP, vzP, vzNP = sp.symbols(('vxP', 'vxNP', 'vyP', 'vyNP', 'vzP', 'vzNP'))\n",
    "expr_ps = ((vxP-vxNP)*(vxP-vxNP) + (vyP-vyNP)*(vyP-vyNP) + (vzP-vzNP)*(vzP-vzNP))*(vxP-vxNP)\n",
    "fx = njit(sp.lambdify((vxP, vxNP, vyP, vyNP, vzP, vzNP),expr_ps,'numpy'))\n",
    "\n",
    "@njit\n",
    "def f(i,ip,vx,vy,vz,fx=fx):\n",
    "    vxP = vx[ip]\n",
    "    vxNP = vx[i]\n",
    "    vyP = vy[ip]\n",
    "    vyNP = vy[i]\n",
    "    vzP = vz[ip]\n",
    "    vzNP = vz[i]\n",
    "    return fx(vxP, vxNP, vyP, vyNP, vzP, vzNP)\n",
    "\n",
    "print(fx)\n",
    "print(f)\n",
    "    "
   ]
  },
  {
   "cell_type": "code",
   "execution_count": 63,
   "metadata": {},
   "outputs": [
    {
     "name": "stdout",
     "output_type": "stream",
     "text": [
      "CPUDispatcher(<function _lambdifygenerated at 0x7f97b3e77c10>)\n",
      "CPUDispatcher(<function f at 0x7f97b60d2430>)\n"
     ]
    }
   ],
   "source": [
    "class Term:\n",
    "    def __init__(self):\n",
    "        vxP, vxNP, vyP, vyNP, vzP, vzNP = sp.symbols(('vxP', 'vxNP', 'vyP', 'vyNP', 'vzP', 'vzNP'))\n",
    "        self.expr = ((vxP-vxNP)*(vxP-vxNP) + (vyP-vyNP)*(vyP-vyNP) + (vzP-vzNP)*(vzP-vzNP))*(vxP-vxNP)\n",
    "\n",
    "\n",
    "fy = njit(sp.lambdify((vxP, vxNP, vyP, vyNP, vzP, vzNP),Term().expr,'numpy'))\n",
    "\n",
    "@njit\n",
    "def f3(i,ip,vx,vy,vz,fx=fy):\n",
    "    vxP = vx[ip]\n",
    "    vxNP = vx[i]\n",
    "    vyP = vy[ip]\n",
    "    vyNP = vy[i]\n",
    "    vzP = vz[ip]\n",
    "    vzNP = vz[i]\n",
    "    return fx(vxP, vxNP, vyP, vyNP, vzP, vzNP)\n",
    "\n",
    "print(fx)\n",
    "print(f)"
   ]
  },
  {
   "cell_type": "code",
   "execution_count": 53,
   "metadata": {},
   "outputs": [],
   "source": [
    "@njit\n",
    "def f2(i,ip,vx,vy,vz):\n",
    "    vxP = vx[ip]\n",
    "    vxNP = vx[i]\n",
    "    vyP = vy[ip]\n",
    "    vyNP = vy[i]\n",
    "    vzP = vz[ip]\n",
    "    vzNP = vz[i]\n",
    "    return ((vxP-vxNP)*(vxP-vxNP) + (vyP-vyNP)*(vyP-vyNP) + (vzP-vzNP)*(vzP-vzNP))*(vxP-vxNP) "
   ]
  },
  {
   "cell_type": "code",
   "execution_count": 25,
   "metadata": {},
   "outputs": [],
   "source": [
    "@njit\n",
    "def test_f4(l,dist:int, f, *quantities):\n",
    "    acc = 0\n",
    "    for i in range(l - dist):\n",
    "        acc +=  f(i,i+dist, *quantities) \n",
    "    offset = l-dist\n",
    "    for i in range(dist):\n",
    "        acc +=   f(i+offset, i, *quantities)\n",
    "    return acc"
   ]
  },
  {
   "cell_type": "code",
   "execution_count": 56,
   "metadata": {},
   "outputs": [
    {
     "name": "stdout",
     "output_type": "stream",
     "text": [
      "6554.442663145018\n",
      "2.26 s ± 10.3 ms per loop (mean ± std. dev. of 7 runs, 1 loop each)\n"
     ]
    }
   ],
   "source": [
    "print(test_f4(len(input['vx']),int(10), f, input['vx'],input['vy'],input['vz']))\n",
    "%timeit test_f4(len(input['vx']),int(10), f, input['vx'],input['vy'],input['vz'])"
   ]
  },
  {
   "cell_type": "code",
   "execution_count": 54,
   "metadata": {},
   "outputs": [
    {
     "name": "stdout",
     "output_type": "stream",
     "text": [
      "6554.442663145018\n",
      "2.29 s ± 16.6 ms per loop (mean ± std. dev. of 7 runs, 1 loop each)\n"
     ]
    }
   ],
   "source": [
    "print(test_f4(len(input['vx']),int(10), f2, input['vx'],input['vy'],input['vz']))\n",
    "%timeit test_f4(len(input['vx']),int(10), f2, input['vx'],input['vy'],input['vz'])"
   ]
  },
  {
   "cell_type": "code",
   "execution_count": 64,
   "metadata": {},
   "outputs": [
    {
     "name": "stdout",
     "output_type": "stream",
     "text": [
      "6554.442663145018\n",
      "2.25 s ± 20.7 ms per loop (mean ± std. dev. of 7 runs, 1 loop each)\n"
     ]
    }
   ],
   "source": [
    "print(test_f4(len(input['vx']),int(10), f3, input['vx'],input['vy'],input['vz']))\n",
    "%timeit test_f4(len(input['vx']),int(10), f3, input['vx'],input['vy'],input['vz'])"
   ]
  }
 ],
 "metadata": {
  "kernelspec": {
   "display_name": "Python 3.8.10 ('venv')",
   "language": "python",
   "name": "python3"
  },
  "language_info": {
   "codemirror_mode": {
    "name": "ipython",
    "version": 3
   },
   "file_extension": ".py",
   "mimetype": "text/x-python",
   "name": "python",
   "nbconvert_exporter": "python",
   "pygments_lexer": "ipython3",
   "version": "3.8.10"
  },
  "orig_nbformat": 4,
  "vscode": {
   "interpreter": {
    "hash": "c53e085c35f321fddf126a644552d53df5dbec8a70ca5c68bab4eb2d1aa976f1"
   }
  }
 },
 "nbformat": 4,
 "nbformat_minor": 2
}
