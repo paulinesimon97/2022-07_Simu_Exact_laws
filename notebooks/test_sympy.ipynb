{
 "cells": [
  {
   "cell_type": "code",
   "execution_count": 22,
   "metadata": {},
   "outputs": [],
   "source": [
    "import numpy as np\n",
    "import sympy as sp\n",
    "from numba import njit"
   ]
  },
  {
   "cell_type": "code",
   "execution_count": 69,
   "metadata": {},
   "outputs": [],
   "source": [
    "input = {}\n",
    "input['vx'] = (np.random.random((1000,1000,1000))).reshape((-1,))\n",
    "input['vy'] = (np.random.random((1000,1000,1000))).reshape((-1,))\n",
    "input['vz'] = (np.random.random((1000,1000,1000))).reshape((-1,))\n",
    "\n"
   ]
  },
  {
   "cell_type": "code",
   "execution_count": 65,
   "metadata": {},
   "outputs": [
    {
     "data": {
      "image/png": "[encoded data removed]",
      "text/latex": [
       "$\\displaystyle \\left(- vx + vx'\\right) \\left(\\left(- vx + vx'\\right)^{2} + \\left(- vy + vy'\\right)^{2} + \\left(- vz + vz'\\right)^{2}\\right)$"
      ],
      "text/plain": [
       "            ⎛           2              2              2⎞\n",
       "(-vx + vx')⋅⎝(-vx + vx')  + (-vy + vy')  + (-vz + vz') ⎠"
      ]
     },
     "execution_count": 65,
     "metadata": {},
     "output_type": "execute_result"
    }
   ],
   "source": [
    "vxP, vxNP, vyP, vyNP, vzP, vzNP = sp.symbols((\"vx'\", \"vx\", \"vy'\", \"vy\", \"vz'\", \"vz\"))\n",
    "expr_ps = ((vxP-vxNP)*(vxP-vxNP) + (vyP-vyNP)*(vyP-vyNP) + (vzP-vzNP)*(vzP-vzNP))*(vxP-vxNP)\n",
    "expr_ps"
   ]
  },
  {
   "cell_type": "code",
   "execution_count": 9,
   "metadata": {},
   "outputs": [
    {
     "name": "stdout",
     "output_type": "stream",
     "text": [
      "CPUDispatcher(<function _lambdifygenerated at 0x7f1f95ed9dc0>)\n",
      "CPUDispatcher(<function f at 0x7f1f95ed9d30>)\n"
     ]
    }
   ],
   "source": [
    "vxP, vxNP, vyP, vyNP, vzP, vzNP = sp.symbols(('vxP', 'vxNP', 'vyP', 'vyNP', 'vzP', 'vzNP'))\n",
    "expr_ps = ((vxP-vxNP)*(vxP-vxNP) + (vyP-vyNP)*(vyP-vyNP) + (vzP-vzNP)*(vzP-vzNP))*(vxP-vxNP)\n",
    "fx = njit(sp.lambdify((vxP, vxNP, vyP, vyNP, vzP, vzNP),expr_ps,'numpy'))\n",
    "\n",
    "@njit\n",
    "def f(i,ip,vx,vy,vz,fx=fx):\n",
    "    vxP = vx[ip]\n",
    "    vxNP = vx[i]\n",
    "    vyP = vy[ip]\n",
    "    vyNP = vy[i]\n",
    "    vzP = vz[ip]\n",
    "    vzNP = vz[i]\n",
    "    return fx(vxP, vxNP, vyP, vyNP, vzP, vzNP)\n",
    "\n",
    "print(fx)\n",
    "print(f)\n",
    "    "
   ]
  },
  {
   "cell_type": "code",
   "execution_count": 68,
   "metadata": {},
   "outputs": [
    {
     "name": "stdout",
     "output_type": "stream",
     "text": [
      "CPUDispatcher(<function _lambdifygenerated at 0x7f913e9825e0>)\n"
     ]
    }
   ],
   "source": [
    "vxP, vxNP, vyP, vyNP, vzP, vzNP = sp.symbols(('vxP', 'vxNP', 'vyP', 'vyNP', 'vzP', 'vzNP'))\n",
    "expr_ps = ((vxP-vxNP)*(vxP-vxNP) + (vyP-vyNP)*(vyP-vyNP) + (vzP-vzNP)*(vzP-vzNP))*(vxP-vxNP)\n",
    "fx = njit(sp.lambdify((vxP, vxNP, vyP, vyNP, vzP, vzNP),expr_ps,'numpy'))\n",
    "\n",
    "@njit\n",
    "def f4(i,ip,vx,vy,vz,fx=fx):\n",
    "    quantities = []\n",
    "    quantities.append(vx[ip],vx[i],vy[ip],vy[i],vz[ip],vz[i])\n",
    "    return fx(*quantities)\n",
    "\n",
    "print(fx)"
   ]
  },
  {
   "cell_type": "code",
   "execution_count": 65,
   "metadata": {},
   "outputs": [],
   "source": [
    "class Term:\n",
    "    def __init__(self):\n",
    "        self.set_sympy_expr()\n",
    "        self.fct = sp.lambdify( sp.symbols(('vxP', 'vxNP', 'vyP', 'vyNP', 'vzP', 'vzNP')),self.expr,'numpy')\n",
    "    \n",
    "    def set_sympy_expr(self):\n",
    "        vxP, vxNP, vyP, vyNP, vzP, vzNP = sp.symbols(('vxP', 'vxNP', 'vyP', 'vyNP', 'vzP', 'vzNP'))\n",
    "        A = (vxP-vxNP)*(vxP-vxNP)\n",
    "        B = (vyP-vyNP)*(vyP-vyNP)\n",
    "        C = (vzP-vzNP)*(vzP-vzNP)\n",
    "        self.expr = (A + B+ C)*(vxP-vxNP)\n",
    "\n",
    "\n",
    "#fy = njit(Term().fct)\n",
    "\n",
    "@njit\n",
    "def f3(i,ip,vx,vy,vz,fx=njit(Term().fct)):\n",
    "    vxP = vx[ip]\n",
    "    vxNP = vx[i]\n",
    "    vyP = vy[ip]\n",
    "    vyNP = vy[i]\n",
    "    vzP = vz[ip]\n",
    "    vzNP = vz[i]\n",
    "    return fx(vxP, vxNP, vyP, vyNP, vzP, vzNP)\n",
    "\n",
    "def print_expr():\n",
    "    sp.init_printing(use_latex=True)\n",
    "    return Term().expr"
   ]
  },
  {
   "cell_type": "code",
   "execution_count": 66,
   "metadata": {},
   "outputs": [
    {
     "data": {
      "image/png": "[encoded data removed]",
      "text/latex": [
       "$\\displaystyle \\left(- vxNP + vxP\\right) \\left(\\left(- vxNP + vxP\\right)^{2} + \\left(- vyNP + vyP\\right)^{2} + \\left(- vzNP + vzP\\right)^{2}\\right)$"
      ],
      "text/plain": [
       "              ⎛             2                2                2⎞\n",
       "(-vxNP + vxP)⋅⎝(-vxNP + vxP)  + (-vyNP + vyP)  + (-vzNP + vzP) ⎠"
      ]
     },
     "execution_count": 66,
     "metadata": {},
     "output_type": "execute_result"
    }
   ],
   "source": [
    "print_expr()"
   ]
  },
  {
   "cell_type": "code",
   "execution_count": 53,
   "metadata": {},
   "outputs": [],
   "source": [
    "@njit\n",
    "def f2(i,ip,vx,vy,vz):\n",
    "    vxP = vx[ip]\n",
    "    vxNP = vx[i]\n",
    "    vyP = vy[ip]\n",
    "    vyNP = vy[i]\n",
    "    vzP = vz[ip]\n",
    "    vzNP = vz[i]\n",
    "    return ((vxP-vxNP)*(vxP-vxNP) + (vyP-vyNP)*(vyP-vyNP) + (vzP-vzNP)*(vzP-vzNP))*(vxP-vxNP) "
   ]
  },
  {
   "cell_type": "code",
   "execution_count": 5,
   "metadata": {},
   "outputs": [],
   "source": [
    "@njit\n",
    "def test_f4(l,dist:int, f, *quantities):\n",
    "    acc = 0\n",
    "    for i in range(l - dist):\n",
    "        acc +=  f(i,i+dist, *quantities) \n",
    "    offset = l-dist\n",
    "    for i in range(dist):\n",
    "        acc +=   f(i+offset, i, *quantities)\n",
    "    return acc"
   ]
  },
  {
   "cell_type": "code",
   "execution_count": 10,
   "metadata": {},
   "outputs": [
    {
     "name": "stdout",
     "output_type": "stream",
     "text": [
      "-4811.571639457486\n",
      "2.24 s ± 67 ms per loop (mean ± std. dev. of 7 runs, 1 loop each)\n"
     ]
    }
   ],
   "source": [
    "print(test_f4(len(input['vx']),int(10), f, input['vx'],input['vy'],input['vz']))\n",
    "%timeit test_f4(len(input['vx']),int(10), f, input['vx'],input['vy'],input['vz'])"
   ]
  },
  {
   "cell_type": "code",
   "execution_count": 54,
   "metadata": {},
   "outputs": [
    {
     "name": "stdout",
     "output_type": "stream",
     "text": [
      "6554.442663145018\n",
      "2.29 s ± 16.6 ms per loop (mean ± std. dev. of 7 runs, 1 loop each)\n"
     ]
    }
   ],
   "source": [
    "print(test_f4(len(input['vx']),int(10), f2, input['vx'],input['vy'],input['vz']))\n",
    "%timeit test_f4(len(input['vx']),int(10), f2, input['vx'],input['vy'],input['vz'])"
   ]
  },
  {
   "cell_type": "code",
   "execution_count": 6,
   "metadata": {},
   "outputs": [
    {
     "name": "stdout",
     "output_type": "stream",
     "text": [
      "-8773.068743713106\n",
      "2.22 s ± 21.2 ms per loop (mean ± std. dev. of 7 runs, 1 loop each)\n"
     ]
    }
   ],
   "source": [
    "print(test_f4(len(input['vx']),int(10), f3, input['vx'],input['vy'],input['vz']))\n",
    "%timeit test_f4(len(input['vx']),int(10), f3, input['vx'],input['vy'],input['vz'])"
   ]
  },
  {
   "cell_type": "code",
   "execution_count": 70,
   "metadata": {},
   "outputs": [
    {
     "ename": "TypingError",
     "evalue": "Failed in nopython mode pipeline (step: nopython frontend)\n\u001b[1m\u001b[1m\u001b[1m\u001b[1m\u001b[1m\u001b[1mFailed in nopython mode pipeline (step: nopython frontend)\n\u001b[1m\u001b[1m\u001b[1m\u001b[1m- Resolution failure for literal arguments:\n\u001b[1mtoo many values to unpack (expected 1)\u001b[0m\n\u001b[0m\u001b[1m- Resolution failure for non-literal arguments:\n\u001b[1mNone\u001b[0m\n\u001b[0m\u001b[0m\n\u001b[0m\u001b[1mDuring: resolving callee type: BoundFunction(list.append for list(undefined)<iv=None>)\u001b[0m\n\u001b[0m\u001b[1mDuring: typing of call at /tmp/ipykernel_53174/2112971277.py (8)\n\u001b[0m\n\u001b[1m\nFile \"../../../../../../tmp/ipykernel_53174/2112971277.py\", line 8:\u001b[0m\n\u001b[1m<source missing, REPL/exec in use?>\u001b[0m\n\n\u001b[0m\u001b[1mDuring: resolving callee type: type(CPUDispatcher(<function f4 at 0x7f913e793c10>))\u001b[0m\n\u001b[0m\u001b[1mDuring: typing of call at /tmp/ipykernel_53174/104631631.py (5)\n\u001b[0m\n\u001b[0m\u001b[1mDuring: resolving callee type: type(CPUDispatcher(<function f4 at 0x7f913e793c10>))\u001b[0m\n\u001b[0m\u001b[1mDuring: typing of call at /tmp/ipykernel_53174/104631631.py (8)\n\u001b[0m\n\u001b[0m\u001b[1mDuring: resolving callee type: type(CPUDispatcher(<function f4 at 0x7f913e793c10>))\u001b[0m\n\u001b[0m\u001b[1mDuring: typing of call at /tmp/ipykernel_53174/104631631.py (5)\n\u001b[0m\n\u001b[1m\nFile \"../../../../../../tmp/ipykernel_53174/104631631.py\", line 5:\u001b[0m\n\u001b[1m<source missing, REPL/exec in use?>\u001b[0m\n",
     "output_type": "error",
     "traceback": [
      "\u001b[0;31m---------------------------------------------------------------------------\u001b[0m",
      "\u001b[0;31mTypingError\u001b[0m                               Traceback (most recent call last)",
      "\u001b[0;32m/tmp/ipykernel_53174/4075661156.py\u001b[0m in \u001b[0;36m<module>\u001b[0;34m\u001b[0m\n\u001b[0;32m----> 1\u001b[0;31m \u001b[0mprint\u001b[0m\u001b[0;34m(\u001b[0m\u001b[0mtest_f4\u001b[0m\u001b[0;34m(\u001b[0m\u001b[0mlen\u001b[0m\u001b[0;34m(\u001b[0m\u001b[0minput\u001b[0m\u001b[0;34m[\u001b[0m\u001b[0;34m'vx'\u001b[0m\u001b[0;34m]\u001b[0m\u001b[0;34m)\u001b[0m\u001b[0;34m,\u001b[0m\u001b[0mint\u001b[0m\u001b[0;34m(\u001b[0m\u001b[0;36m10\u001b[0m\u001b[0;34m)\u001b[0m\u001b[0;34m,\u001b[0m \u001b[0mf4\u001b[0m\u001b[0;34m,\u001b[0m \u001b[0minput\u001b[0m\u001b[0;34m[\u001b[0m\u001b[0;34m'vx'\u001b[0m\u001b[0;34m]\u001b[0m\u001b[0;34m,\u001b[0m\u001b[0minput\u001b[0m\u001b[0;34m[\u001b[0m\u001b[0;34m'vy'\u001b[0m\u001b[0;34m]\u001b[0m\u001b[0;34m,\u001b[0m\u001b[0minput\u001b[0m\u001b[0;34m[\u001b[0m\u001b[0;34m'vz'\u001b[0m\u001b[0;34m]\u001b[0m\u001b[0;34m)\u001b[0m\u001b[0;34m)\u001b[0m\u001b[0;34m\u001b[0m\u001b[0;34m\u001b[0m\u001b[0m\n\u001b[0m\u001b[1;32m      2\u001b[0m \u001b[0mget_ipython\u001b[0m\u001b[0;34m(\u001b[0m\u001b[0;34m)\u001b[0m\u001b[0;34m.\u001b[0m\u001b[0mrun_line_magic\u001b[0m\u001b[0;34m(\u001b[0m\u001b[0;34m'timeit'\u001b[0m\u001b[0;34m,\u001b[0m \u001b[0;34m\"test_f4(len(input['vx']),int(10), f4, input['vx'],input['vy'],input['vz'])\"\u001b[0m\u001b[0;34m)\u001b[0m\u001b[0;34m\u001b[0m\u001b[0;34m\u001b[0m\u001b[0m\n",
      "\u001b[0;32m~/venv/lib/python3.8/site-packages/numba/core/dispatcher.py\u001b[0m in \u001b[0;36m_compile_for_args\u001b[0;34m(self, *args, **kws)\u001b[0m\n\u001b[1;32m    466\u001b[0m                 \u001b[0me\u001b[0m\u001b[0;34m.\u001b[0m\u001b[0mpatch_message\u001b[0m\u001b[0;34m(\u001b[0m\u001b[0mmsg\u001b[0m\u001b[0;34m)\u001b[0m\u001b[0;34m\u001b[0m\u001b[0;34m\u001b[0m\u001b[0m\n\u001b[1;32m    467\u001b[0m \u001b[0;34m\u001b[0m\u001b[0m\n\u001b[0;32m--> 468\u001b[0;31m             \u001b[0merror_rewrite\u001b[0m\u001b[0;34m(\u001b[0m\u001b[0me\u001b[0m\u001b[0;34m,\u001b[0m \u001b[0;34m'typing'\u001b[0m\u001b[0;34m)\u001b[0m\u001b[0;34m\u001b[0m\u001b[0;34m\u001b[0m\u001b[0m\n\u001b[0m\u001b[1;32m    469\u001b[0m         \u001b[0;32mexcept\u001b[0m \u001b[0merrors\u001b[0m\u001b[0;34m.\u001b[0m\u001b[0mUnsupportedError\u001b[0m \u001b[0;32mas\u001b[0m \u001b[0me\u001b[0m\u001b[0;34m:\u001b[0m\u001b[0;34m\u001b[0m\u001b[0;34m\u001b[0m\u001b[0m\n\u001b[1;32m    470\u001b[0m             \u001b[0;31m# Something unsupported is present in the user code, add help info\u001b[0m\u001b[0;34m\u001b[0m\u001b[0;34m\u001b[0m\u001b[0;34m\u001b[0m\u001b[0m\n",
      "\u001b[0;32m~/venv/lib/python3.8/site-packages/numba/core/dispatcher.py\u001b[0m in \u001b[0;36merror_rewrite\u001b[0;34m(e, issue_type)\u001b[0m\n\u001b[1;32m    407\u001b[0m                 \u001b[0;32mraise\u001b[0m \u001b[0me\u001b[0m\u001b[0;34m\u001b[0m\u001b[0;34m\u001b[0m\u001b[0m\n\u001b[1;32m    408\u001b[0m             \u001b[0;32melse\u001b[0m\u001b[0;34m:\u001b[0m\u001b[0;34m\u001b[0m\u001b[0;34m\u001b[0m\u001b[0m\n\u001b[0;32m--> 409\u001b[0;31m                 \u001b[0;32mraise\u001b[0m \u001b[0me\u001b[0m\u001b[0;34m.\u001b[0m\u001b[0mwith_traceback\u001b[0m\u001b[0;34m(\u001b[0m\u001b[0;32mNone\u001b[0m\u001b[0;34m)\u001b[0m\u001b[0;34m\u001b[0m\u001b[0;34m\u001b[0m\u001b[0m\n\u001b[0m\u001b[1;32m    410\u001b[0m \u001b[0;34m\u001b[0m\u001b[0m\n\u001b[1;32m    411\u001b[0m         \u001b[0margtypes\u001b[0m \u001b[0;34m=\u001b[0m \u001b[0;34m[\u001b[0m\u001b[0;34m]\u001b[0m\u001b[0;34m\u001b[0m\u001b[0;34m\u001b[0m\u001b[0m\n",
      "\u001b[0;31mTypingError\u001b[0m: Failed in nopython mode pipeline (step: nopython frontend)\n\u001b[1m\u001b[1m\u001b[1m\u001b[1m\u001b[1m\u001b[1mFailed in nopython mode pipeline (step: nopython frontend)\n\u001b[1m\u001b[1m\u001b[1m\u001b[1m- Resolution failure for literal arguments:\n\u001b[1mtoo many values to unpack (expected 1)\u001b[0m\n\u001b[0m\u001b[1m- Resolution failure for non-literal arguments:\n\u001b[1mNone\u001b[0m\n\u001b[0m\u001b[0m\n\u001b[0m\u001b[1mDuring: resolving callee type: BoundFunction(list.append for list(undefined)<iv=None>)\u001b[0m\n\u001b[0m\u001b[1mDuring: typing of call at /tmp/ipykernel_53174/2112971277.py (8)\n\u001b[0m\n\u001b[1m\nFile \"../../../../../../tmp/ipykernel_53174/2112971277.py\", line 8:\u001b[0m\n\u001b[1m<source missing, REPL/exec in use?>\u001b[0m\n\n\u001b[0m\u001b[1mDuring: resolving callee type: type(CPUDispatcher(<function f4 at 0x7f913e793c10>))\u001b[0m\n\u001b[0m\u001b[1mDuring: typing of call at /tmp/ipykernel_53174/104631631.py (5)\n\u001b[0m\n\u001b[0m\u001b[1mDuring: resolving callee type: type(CPUDispatcher(<function f4 at 0x7f913e793c10>))\u001b[0m\n\u001b[0m\u001b[1mDuring: typing of call at /tmp/ipykernel_53174/104631631.py (8)\n\u001b[0m\n\u001b[0m\u001b[1mDuring: resolving callee type: type(CPUDispatcher(<function f4 at 0x7f913e793c10>))\u001b[0m\n\u001b[0m\u001b[1mDuring: typing of call at /tmp/ipykernel_53174/104631631.py (5)\n\u001b[0m\n\u001b[1m\nFile \"../../../../../../tmp/ipykernel_53174/104631631.py\", line 5:\u001b[0m\n\u001b[1m<source missing, REPL/exec in use?>\u001b[0m\n"
     ]
    }
   ],
   "source": [
    "print(test_f4(len(input['vx']),int(10), f4, input['vx'],input['vy'],input['vz']))\n",
    "%timeit test_f4(len(input['vx']),int(10), f4, input['vx'],input['vy'],input['vz'])"
   ]
  }
 ],
 "metadata": {
  "kernelspec": {
   "display_name": "Python 3.8.10 ('venv')",
   "language": "python",
   "name": "python3"
  },
  "language_info": {
   "codemirror_mode": {
    "name": "ipython",
    "version": 3
   },
   "file_extension": ".py",
   "mimetype": "text/x-python",
   "name": "python",
   "nbconvert_exporter": "python",
   "pygments_lexer": "ipython3",
   "version": "3.8.10"
  },
  "orig_nbformat": 4,
  "vscode": {
   "interpreter": {
    "hash": "c53e085c35f321fddf126a644552d53df5dbec8a70ca5c68bab4eb2d1aa976f1"
   }
  }
 },
 "nbformat": 4,
 "nbformat_minor": 2
}
