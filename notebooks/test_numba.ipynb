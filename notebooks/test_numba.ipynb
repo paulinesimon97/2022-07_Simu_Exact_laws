{
 "cells": [
  {
   "cell_type": "code",
   "execution_count": 1,
   "metadata": {},
   "outputs": [],
   "source": [
    "import sys\n",
    "# Tested module\n",
    "sys.path.append(\"/home/simon/Documents/REPO/Exact_laws\")\n",
    "from exact_laws.exact_laws_calc.terms import source_test, flux_test"
   ]
  },
  {
   "cell_type": "code",
   "execution_count": 2,
   "metadata": {},
   "outputs": [],
   "source": [
    "import numpy as np"
   ]
  },
  {
   "cell_type": "code",
   "execution_count": 3,
   "metadata": {},
   "outputs": [],
   "source": [
    "N = [296,296,296]\n",
    "input = {}\n",
    "input['vx'] = np.ones(N)*4.\n",
    "input['vy'] = np.ones(N)*5.\n",
    "input['vz'] = np.ones(N)*6.\n",
    "\n"
   ]
  },
  {
   "cell_type": "code",
   "execution_count": 4,
   "metadata": {},
   "outputs": [],
   "source": [
    "S = source_test.load()"
   ]
  },
  {
   "cell_type": "code",
   "execution_count": 5,
   "metadata": {},
   "outputs": [
    {
     "name": "stdout",
     "output_type": "stream",
     "text": [
      "120.0\n"
     ]
    }
   ],
   "source": [
    "print(S.calc([1,1,1], N, **input))"
   ]
  },
  {
   "cell_type": "code",
   "execution_count": 6,
   "metadata": {},
   "outputs": [
    {
     "name": "stdout",
     "output_type": "stream",
     "text": [
      "51.7 ms ± 867 µs per loop (mean ± std. dev. of 7 runs, 10 loops each)\n"
     ]
    }
   ],
   "source": [
    "%timeit S.calc([1,1,1], N, **input)"
   ]
  },
  {
   "cell_type": "code",
   "execution_count": 7,
   "metadata": {},
   "outputs": [],
   "source": [
    "F = flux_test.load()"
   ]
  },
  {
   "cell_type": "code",
   "execution_count": 8,
   "metadata": {},
   "outputs": [
    {
     "name": "stdout",
     "output_type": "stream",
     "text": [
      "[16.0, 25.0, 36.0]\n"
     ]
    }
   ],
   "source": [
    "print(F.calc([1,1,1], N, **input))"
   ]
  },
  {
   "cell_type": "code",
   "execution_count": 9,
   "metadata": {},
   "outputs": [
    {
     "name": "stdout",
     "output_type": "stream",
     "text": [
      "88.3 ms ± 3.94 ms per loop (mean ± std. dev. of 7 runs, 10 loops each)\n"
     ]
    }
   ],
   "source": [
    "%timeit F.calc([1,1,1], N, **input)"
   ]
  },
  {
   "cell_type": "code",
   "execution_count": 10,
   "metadata": {},
   "outputs": [
    {
     "name": "stdout",
     "output_type": "stream",
     "text": [
      "[16.0, 25.0, 36.0]\n"
     ]
    }
   ],
   "source": [
    "print(F.calc2([1,1,1], N, **input))"
   ]
  },
  {
   "cell_type": "code",
   "execution_count": 11,
   "metadata": {},
   "outputs": [
    {
     "name": "stdout",
     "output_type": "stream",
     "text": [
      "84.7 ms ± 768 µs per loop (mean ± std. dev. of 7 runs, 10 loops each)\n"
     ]
    }
   ],
   "source": [
    "%timeit F.calc2([1,1,1], N, **input)"
   ]
  },
  {
   "cell_type": "code",
   "execution_count": 12,
   "metadata": {},
   "outputs": [
    {
     "name": "stdout",
     "output_type": "stream",
     "text": [
      "[16.0, 25.0, 36.0]\n"
     ]
    }
   ],
   "source": [
    "print(F.calc3([1,1,1], N, **input))"
   ]
  },
  {
   "cell_type": "code",
   "execution_count": 13,
   "metadata": {},
   "outputs": [
    {
     "name": "stdout",
     "output_type": "stream",
     "text": [
      "85.1 ms ± 461 µs per loop (mean ± std. dev. of 7 runs, 10 loops each)\n"
     ]
    }
   ],
   "source": [
    "%timeit F.calc3([1,1,1], N, **input)"
   ]
  },
  {
   "cell_type": "code",
   "execution_count": 4,
   "metadata": {},
   "outputs": [],
   "source": [
    "from numba import njit\n",
    "from numba import types\n",
    "from numba.typed import Dict"
   ]
  },
  {
   "cell_type": "code",
   "execution_count": 5,
   "metadata": {},
   "outputs": [],
   "source": [
    "def from_dict_to_numba_dict(dict):\n",
    "    numba_dict = Dict.empty(\n",
    "        key_type=types.unicode_type,\n",
    "        value_type=types.float64[:,:,:],\n",
    "    )\n",
    "    for k in dict.keys():\n",
    "        numba_dict[k] = dict[k]\n",
    "    return numba_dict\n",
    "\n",
    "@njit\n",
    "def term(dict):\n",
    "    return dict['vx']*dict['vy']*dict['vz']*dict['vxP']*dict['vyP']*dict['vzP']\n",
    "\n",
    "@njit\n",
    "def funct(quantities,N1,N2,N3):\n",
    "    point_quantities = Dict.empty(\n",
    "        key_type=types.unicode_type,\n",
    "        value_type=types.float64,\n",
    "    )\n",
    "    acc = 0.\n",
    "    for i in range(N1):\n",
    "        for j in range(N2):\n",
    "            for k in range(N3): \n",
    "                ip,jp,kp = 9,5,6\n",
    "    \n",
    "                for q in quantities.keys():\n",
    "                    point_quantities[q] = quantities[q][i,j,k]\n",
    "                    point_quantities[q+'P'] = quantities[q][ip,jp,kp]\n",
    "\n",
    "                acc += term(point_quantities)   \n",
    "    return acc\n",
    "    \n",
    "\n",
    "        \n",
    "            "
   ]
  },
  {
   "cell_type": "code",
   "execution_count": 6,
   "metadata": {},
   "outputs": [],
   "source": [
    "dict = from_dict_to_numba_dict(input)"
   ]
  },
  {
   "cell_type": "code",
   "execution_count": 7,
   "metadata": {},
   "outputs": [
    {
     "name": "stdout",
     "output_type": "stream",
     "text": [
      "373454438400.0\n"
     ]
    }
   ],
   "source": [
    "print(funct(dict,*N))"
   ]
  }
 ],
 "metadata": {
  "kernelspec": {
   "display_name": "Python 3.8.10 ('venv')",
   "language": "python",
   "name": "python3"
  },
  "language_info": {
   "codemirror_mode": {
    "name": "ipython",
    "version": 3
   },
   "file_extension": ".py",
   "mimetype": "text/x-python",
   "name": "python",
   "nbconvert_exporter": "python",
   "pygments_lexer": "ipython3",
   "version": "3.8.10"
  },
  "orig_nbformat": 4,
  "vscode": {
   "interpreter": {
    "hash": "c53e085c35f321fddf126a644552d53df5dbec8a70ca5c68bab4eb2d1aa976f1"
   }
  }
 },
 "nbformat": 4,
 "nbformat_minor": 2
}
