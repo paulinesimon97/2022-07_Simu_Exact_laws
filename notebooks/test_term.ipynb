{
 "cells": [
  {
   "cell_type": "code",
   "execution_count": 1,
   "metadata": {},
   "outputs": [],
   "source": [
    "import sys\n",
    "# Tested module\n",
    "sys.path.append(\"/home/simon/Documents/REPO/Exact_laws\")"
   ]
  },
  {
   "cell_type": "code",
   "execution_count": 2,
   "metadata": {},
   "outputs": [],
   "source": [
    "from exact_laws.el_calc_mod.terms import load_all\n",
    "terms = load_all()"
   ]
  },
  {
   "cell_type": "code",
   "execution_count": 3,
   "metadata": {},
   "outputs": [
    {
     "data": {
      "text/plain": [
       "dict_keys(['source_pperpvdrdr', 'source_rvdpperpcgldr', 'source_ppolvdrdr', 'source_rvdppoldr', 'flux_drducgldv', 'flux_drvdbdb', 'flux_drdpandv', 'flux_drdupoldv', 'source_panvdrdr', 'flux_drbdvdb', 'flux_drppolv', 'flux_drdpisodv', 'flux_drdppoldv', 'source_rdpandv', 'source_rdpancgldv', 'bg17_vwv', 'flux_drbdbdv', 'source_rvdpandr', 'source_drbbdv', 'source_rdpperpdv', 'source_rdupoldv', 'source_rpisodv', 'source_bdrvdb', 'source_bdrbdv', 'flux_drpisov', 'flux_test', 'source_test', 'bg17_vbj', 'source_rvdpisodr', 'source_rvbetadrho', 'source_rducgldv', 'source_rbdvdb', 'flux_dbdbdv', 'flux_drdugyrdv', 'flux_drdpancgldv', 'source_rvdpmdr', 'source_pancglvdrdr', 'source_rvdvdv', 'source_rbdbdv', 'flux_drpmv', 'source_rvbetadupol', 'flux_dvdbdb', 'source_rvbetadu', 'source_rvdpancgldr', 'source_rdpisodv', 'flux_drduisodv', 'flux_drdpperpcgldv', 'flux_druisov', 'flux_drupolv', 'source_rdppoldv', 'bg17_jbv', 'source_rvdpperpdr', 'flux_dvdvdv', 'source_rdpperpcgldv', 'flux_drdpmdv', 'source_rppoldv', 'source_pisovdrdr', 'source_rdugyrdv', 'source_dpan', 'source_rvdbdb', 'flux_drdpperpdv', 'source_dpancgl', 'source_pmvdrdr', 'source_rduisodv', 'flux_drvdvdv', 'source_pperpcglvdrdr'])"
      ]
     },
     "execution_count": 3,
     "metadata": {},
     "output_type": "execute_result"
    }
   ],
   "source": [
    "terms.keys()"
   ]
  },
  {
   "cell_type": "code",
   "execution_count": 4,
   "metadata": {},
   "outputs": [
    {
     "data": {
      "image/png": "[encoded data removed]",
      "text/latex": [
       "$\\displaystyle \\left(- vx + vx'\\right) \\left(\\left(- vx + vx'\\right)^{2} + \\left(- vy + vy'\\right)^{2} + \\left(- vz + vz'\\right)^{2}\\right)$"
      ],
      "text/plain": [
       "            ⎛           2              2              2⎞\n",
       "(-vx + vx')⋅⎝(-vx + vx')  + (-vy + vy')  + (-vz + vz') ⎠"
      ]
     },
     "execution_count": 4,
     "metadata": {},
     "output_type": "execute_result"
    }
   ],
   "source": [
    "flux_x, flux_y, flux_z = terms['flux_dvdvdv'].print_expr()\n",
    "flux_x"
   ]
  },
  {
   "cell_type": "code",
   "execution_count": 6,
   "metadata": {},
   "outputs": [
    {
     "data": {
      "image/png": "[encoded data removed]",
      "text/latex": [
       "$\\displaystyle \\frac{\\left(ppar' - pperp'\\right) \\left(bx' \\left(bx' \\left(- dxvx + dxvx'\\right) + by' \\left(- dxvy + dxvy'\\right) + bz' \\left(- dxvz + dxvz'\\right)\\right) + by' \\left(bx' \\left(- dyvx + dyvx'\\right) + by' \\left(- dyvy + dyvy'\\right) + bz' \\left(- dyvz + dyvz'\\right)\\right) + bz' \\left(bx' \\left(- dzvx + dzvx'\\right) + by' \\left(- dzvy + dzvy'\\right) + bz' \\left(- dzvz + dzvz'\\right)\\right)\\right)}{pm'}$"
      ],
      "text/plain": [
       "(ppar' - pperp')⋅(bx'⋅(bx'⋅(-dxvx + dxvx') + by'⋅(-dxvy + dxvy') + bz'⋅(-dxvz \n",
       "──────────────────────────────────────────────────────────────────────────────\n",
       "                                                                              \n",
       "\n",
       "+ dxvz')) + by'⋅(bx'⋅(-dyvx + dyvx') + by'⋅(-dyvy + dyvy') + bz'⋅(-dyvz + dyvz\n",
       "──────────────────────────────────────────────────────────────────────────────\n",
       "                                    pm'                                       \n",
       "\n",
       "')) + bz'⋅(bx'⋅(-dzvx + dzvx') + by'⋅(-dzvy + dzvy') + bz'⋅(-dzvz + dzvz')))\n",
       "────────────────────────────────────────────────────────────────────────────\n",
       "                                                                            "
      ]
     },
     "execution_count": 6,
     "metadata": {},
     "output_type": "execute_result"
    }
   ],
   "source": [
    "terms['source_dpan'].print_expr()"
   ]
  }
 ],
 "metadata": {
  "kernelspec": {
   "display_name": "Python 3.8.10 ('venv')",
   "language": "python",
   "name": "python3"
  },
  "language_info": {
   "codemirror_mode": {
    "name": "ipython",
    "version": 3
   },
   "file_extension": ".py",
   "mimetype": "text/x-python",
   "name": "python",
   "nbconvert_exporter": "python",
   "pygments_lexer": "ipython3",
   "version": "3.8.10"
  },
  "orig_nbformat": 4,
  "vscode": {
   "interpreter": {
    "hash": "c53e085c35f321fddf126a644552d53df5dbec8a70ca5c68bab4eb2d1aa976f1"
   }
  }
 },
 "nbformat": 4,
 "nbformat_minor": 2
}
