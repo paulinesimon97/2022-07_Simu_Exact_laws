{
 "cells": [
  {
   "cell_type": "code",
   "execution_count": 1,
   "metadata": {},
   "outputs": [],
   "source": [
    "import sys\n",
    "# Tested module\n",
    "sys.path.append(\"/home/simon/Documents/REPO/Exact_laws\")\n",
    "from exact_laws.el_calc_mod.grids import load_grid, load_incgrid_from_grid, load_listgrid_from_incgrid, reorganise_quantities\n",
    "import numpy as np\n",
    "import random"
   ]
  },
  {
   "cell_type": "code",
   "execution_count": 2,
   "metadata": {},
   "outputs": [
    {
     "name": "stdout",
     "output_type": "stream",
     "text": [
      "[0.0, 0.2, 0.4, 0.6000000000000001, 0.8, 1.0]\n",
      "\n",
      "\t - axis: ['x', 'y', 'z']\n",
      "\t - N: [6, 6, 6]\n",
      "\t - L: [1, 1, 1]\n",
      "\t - c: [0.2, 0.2, 0.2]\n"
     ]
    }
   ],
   "source": [
    "# grid\n",
    "axis = ['x','y','z'] \n",
    "N = [6,6,6]\n",
    "L = [1,1,1]\n",
    "c = [0.2,0.2,0.2]\n",
    "x = [c[0]*i for i in range(N[0])]\n",
    "print(x)\n",
    "original_grid = load_grid(N=N, L=L, c=c, axis=axis)\n",
    "print(original_grid.describ())"
   ]
  },
  {
   "cell_type": "markdown",
   "metadata": {},
   "source": [
    "**=> Résultat cohérent** "
   ]
  },
  {
   "cell_type": "code",
   "execution_count": 3,
   "metadata": {},
   "outputs": [
    {
     "name": "stdout",
     "output_type": "stream",
     "text": [
      "\n",
      "\t - original grid :\n",
      "\t\t - axis: ['x', 'y', 'z']\n",
      "\t\t - N: [6, 6, 6]\n",
      "\t\t - L: [1, 1, 1]\n",
      "\t\t - c: [0.2, 0.2, 0.2]\n",
      "\t - axis: ['lz', 'lperp', 'listperp']\n",
      "\t - N: [2 2 2]\n",
      "\t - kind: logcyl_cls\n",
      "dict_keys(['lz', 'lperp', 'listperp', 'listecart', 'count'])\n",
      "lz [0 1]\n",
      "lperp [0 1]\n",
      "lperp x c [0.  0.2]\n",
      "listperp [[(0, 0)], [(-1, 0), (0, -1)]]\n",
      "listecart [[0.0], [0.0, 0.0]]\n",
      "count [1, 2]\n"
     ]
    }
   ],
   "source": [
    "# incgrid\n",
    "incgrid = load_incgrid_from_grid('logcyl',original_grid = original_grid, Nmax_scale = 1, Nmax_list = 2, kind = 'cls')\n",
    "print(incgrid.describ())\n",
    "print(incgrid.coords.keys())\n",
    "print('lz', incgrid.coords['lz'])\n",
    "print('lperp', incgrid.coords['lperp'])\n",
    "print('lperp x c', incgrid.coords['lperp']*c[0])\n",
    "print('listperp', incgrid.coords['listperp'])\n",
    "print('listecart', incgrid.coords['listecart'])\n",
    "print('count', incgrid.coords['count'])"
   ]
  },
  {
   "cell_type": "markdown",
   "metadata": {},
   "source": [
    "**=> Résulat cohérent** "
   ]
  },
  {
   "cell_type": "code",
   "execution_count": 4,
   "metadata": {},
   "outputs": [
    {
     "name": "stdout",
     "output_type": "stream",
     "text": [
      "\n",
      "\t - axis: ['listprim', 'listsec']\n",
      "\t - N: [6, 20]\n",
      "\t - L: []\n",
      "\t - c: []\n",
      "listprim [(-1, 0, 1), (0, -1, 1), (0, 0, 0), (0, -1, 0), (-1, 0, 0), (0, 0, 1)]\n",
      "listsec [(0, -1, -1), (0, -2, 1), (0, 1, 0), (-1, 1, 1), (1, -1, 1), (0, 0, -1), (-1, 0, 2), (1, 0, 1), (0, -2, 0), (-1, -1, 1), (-1, 1, 0), (1, -1, 0), (-2, 0, 1), (-1, 0, -1), (1, 0, 0), (-1, -1, 0), (0, -1, 2), (0, 1, 1), (-2, 0, 0), (0, 0, 2)]\n"
     ]
    }
   ],
   "source": [
    "# listgrid\n",
    "listgrid = load_listgrid_from_incgrid(coord = 'logcyl', incgrid = incgrid, nb_sec_by_dirr = 1)\n",
    "print(listgrid.describ())\n",
    "print('listprim', listgrid.coords['listprim'])\n",
    "print('listsec', listgrid.coords['listsec'])"
   ]
  },
  {
   "cell_type": "code",
   "execution_count": 5,
   "metadata": {},
   "outputs": [],
   "source": [
    "output_quantities = {}\n",
    "output_quantities['flux'] = [np.array(listgrid.coords['listprim']), np.array(listgrid.coords['listsec'])]\n",
    "output = reorganise_quantities(coord = 'logcyl',incgrid=incgrid, output_grid=listgrid, output_quantities=output_quantities, nb_sec_by_dirr=1)"
   ]
  },
  {
   "cell_type": "code",
   "execution_count": 6,
   "metadata": {},
   "outputs": [
    {
     "name": "stdout",
     "output_type": "stream",
     "text": [
      "dict_keys(['flux', 'term_div_flux'])\n",
      "(2, 2, 2, 3)\n",
      "(2, 2, 2, 3, 2)\n",
      "[[ 0.  0.  0.]\n",
      " [nan nan nan]]\n",
      "[[[-1.  1.]\n",
      "  [-1.  1.]\n",
      "  [-1.  1.]]\n",
      "\n",
      " [[nan nan]\n",
      "  [nan nan]\n",
      "  [nan nan]]]\n"
     ]
    }
   ],
   "source": [
    "print(output.keys())\n",
    "print(np.shape(output['flux']))\n",
    "print(np.shape(output['term_div_flux']))\n",
    "print(output['flux'][0,0])\n",
    "print(output['term_div_flux'][0,0])"
   ]
  },
  {
   "cell_type": "markdown",
   "metadata": {},
   "source": [
    "**=> Résultat cohérent**"
   ]
  }
 ],
 "metadata": {
  "kernelspec": {
   "display_name": "Python 3.8.10 ('venv')",
   "language": "python",
   "name": "python3"
  },
  "language_info": {
   "codemirror_mode": {
    "name": "ipython",
    "version": 3
   },
   "file_extension": ".py",
   "mimetype": "text/x-python",
   "name": "python",
   "nbconvert_exporter": "python",
   "pygments_lexer": "ipython3",
   "version": "3.8.10"
  },
  "orig_nbformat": 4,
  "vscode": {
   "interpreter": {
    "hash": "c53e085c35f321fddf126a644552d53df5dbec8a70ca5c68bab4eb2d1aa976f1"
   }
  }
 },
 "nbformat": 4,
 "nbformat_minor": 2
}
